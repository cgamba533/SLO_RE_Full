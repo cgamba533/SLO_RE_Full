{
  "nbformat": 4,
  "nbformat_minor": 0,
  "metadata": {
    "colab": {
      "provenance": []
    },
    "kernelspec": {
      "name": "python3",
      "display_name": "Python 3"
    },
    "language_info": {
      "name": "python"
    }
  },
  "cells": [
    {
      "cell_type": "code",
      "execution_count": 1,
      "metadata": {
        "id": "PLzco7G2fGXa"
      },
      "outputs": [],
      "source": [
        "import pandas as pd\n",
        "import numpy as np\n",
        "import joblib\n",
        "import sklearn\n",
        "\n",
        "from sklearn.ensemble import RandomForestClassifier\n",
        "from sklearn.preprocessing import StandardScaler, OneHotEncoder\n",
        "from sklearn.model_selection import train_test_split\n",
        "from sklearn.pipeline import make_pipeline, Pipeline\n",
        "from sklearn.compose import make_column_transformer"
      ]
    },
    {
      "cell_type": "code",
      "source": [
        "sklearn.__version__"
      ],
      "metadata": {
        "colab": {
          "base_uri": "https://localhost:8080/",
          "height": 35
        },
        "id": "YS2RQn6QbDz0",
        "outputId": "0f520748-5523-4d1a-aae8-abf623e87290"
      },
      "execution_count": 2,
      "outputs": [
        {
          "output_type": "execute_result",
          "data": {
            "text/plain": [
              "'1.3.2'"
            ],
            "application/vnd.google.colaboratory.intrinsic+json": {
              "type": "string"
            }
          },
          "metadata": {},
          "execution_count": 2
        }
      ]
    },
    {
      "cell_type": "code",
      "source": [
        "from google.colab import drive\n",
        "drive.mount('/content/drive')\n",
        "\n",
        "slo_re = pd.read_excel('/content/drive/My Drive/SLO_RE_Clean.xlsx')"
      ],
      "metadata": {
        "colab": {
          "base_uri": "https://localhost:8080/"
        },
        "id": "C3ilwusNfOnK",
        "outputId": "fc74a2a9-22b9-4fa8-9087-8a13084b0337"
      },
      "execution_count": 3,
      "outputs": [
        {
          "output_type": "stream",
          "name": "stdout",
          "text": [
            "Mounted at /content/drive\n"
          ]
        }
      ]
    },
    {
      "cell_type": "code",
      "source": [
        "slo_re_anova = slo_re.dropna(subset=['Lot Size', 'Latitude', 'Longitude', 'Year Built', 'New Construction', 'Attached Garage',\n",
        "                                     'Stories', 'Garage Spaces', 'HOA Fee', 'Lot Size', 'Square Footage', 'Baths', 'Beds',\n",
        "                                     'Structure Type', 'List Price', 'Days On Market'])\n",
        "\n",
        "def days_mkt_category_binary(days):\n",
        "  if days <= 45:\n",
        "    return 'average'\n",
        "  else:\n",
        "    return 'slow'\n",
        "\n",
        "slo_re_anova['Days Mkt Category Binary'] = slo_re_anova['Days On Market'].apply(days_mkt_category_binary)"
      ],
      "metadata": {
        "colab": {
          "base_uri": "https://localhost:8080/"
        },
        "id": "QGa8hJnXfcWy",
        "outputId": "141418bb-2223-45cd-fbb8-8095274b63a4"
      },
      "execution_count": 4,
      "outputs": [
        {
          "output_type": "stream",
          "name": "stderr",
          "text": [
            "<ipython-input-4-3d1ea44e857d>:11: SettingWithCopyWarning: \n",
            "A value is trying to be set on a copy of a slice from a DataFrame.\n",
            "Try using .loc[row_indexer,col_indexer] = value instead\n",
            "\n",
            "See the caveats in the documentation: https://pandas.pydata.org/pandas-docs/stable/user_guide/indexing.html#returning-a-view-versus-a-copy\n",
            "  slo_re_anova['Days Mkt Category Binary'] = slo_re_anova['Days On Market'].apply(days_mkt_category_binary)\n"
          ]
        }
      ]
    },
    {
      "cell_type": "code",
      "source": [
        "slo_re_anova['Structure Type'].unique()"
      ],
      "metadata": {
        "id": "yq512H0k0_zj",
        "outputId": "9b42e47f-7215-41d8-8001-4ee633dc05cb",
        "colab": {
          "base_uri": "https://localhost:8080/"
        }
      },
      "execution_count": 5,
      "outputs": [
        {
          "output_type": "execute_result",
          "data": {
            "text/plain": [
              "array(['House', 'Triplex', 'Multi-Family'], dtype=object)"
            ]
          },
          "metadata": {},
          "execution_count": 5
        }
      ]
    },
    {
      "cell_type": "code",
      "source": [
        "X = slo_re_anova[['Lot Size', 'List Price', 'Baths', 'Structure Type', 'Beds', 'Square Footage', 'HOA Fee', 'Stories', 'Attached Garage', 'New Construction']]\n",
        "y = slo_re_anova['Days Mkt Category Binary']\n",
        "\n",
        "X_train, X_test, y_train, y_test = train_test_split(X, y, test_size=0.15, random_state=42)\n",
        "\n",
        "# Define the column transformer and pipeline\n",
        "ct = make_column_transformer(\n",
        "    (StandardScaler(), ['Lot Size', 'List Price', 'Square Footage', 'HOA Fee']),  # Scale numerical features\n",
        "    (OneHotEncoder(handle_unknown=\"ignore\"), ['Baths', 'Structure Type', 'Beds', 'Stories', 'Attached Garage', 'New Construction']),  # Encode categorical features\n",
        "    remainder=\"passthrough\"\n",
        ")\n",
        "\n",
        "pipeline = make_pipeline(\n",
        "    ct,\n",
        "    RandomForestClassifier(n_estimators= 55, random_state=42)  # Random Forest model with default parameters\n",
        ")\n",
        "\n",
        "\n",
        "class_RFModel = pipeline.fit(X=X_train,\n",
        "             y=y_train)\n",
        "\n",
        "slo_re_anova['Predicted DOM'] = class_RFModel.predict(X)"
      ],
      "metadata": {
        "id": "BYYwquEqfQiE",
        "colab": {
          "base_uri": "https://localhost:8080/"
        },
        "outputId": "d21aed8b-063f-4017-91b7-f3d4c2bca63b"
      },
      "execution_count": 9,
      "outputs": [
        {
          "output_type": "stream",
          "name": "stderr",
          "text": [
            "<ipython-input-9-a84018cb1d97>:22: SettingWithCopyWarning: \n",
            "A value is trying to be set on a copy of a slice from a DataFrame.\n",
            "Try using .loc[row_indexer,col_indexer] = value instead\n",
            "\n",
            "See the caveats in the documentation: https://pandas.pydata.org/pandas-docs/stable/user_guide/indexing.html#returning-a-view-versus-a-copy\n",
            "  slo_re_anova['Predicted DOM'] = class_RFModel.predict(X)\n"
          ]
        }
      ]
    },
    {
      "cell_type": "code",
      "source": [
        "slo_re_anova.to_excel('slo_re_anova.xlsx')"
      ],
      "metadata": {
        "id": "kGZnedIIu7Xo"
      },
      "execution_count": 10,
      "outputs": []
    },
    {
      "cell_type": "code",
      "source": [
        "class_RFModel.predict(pd.DataFrame([[4000, 729000, 1, 'House', 2, 900, 0, 1, 'No', 0]],\n",
        "                                columns=['Lot Size', 'List Price', 'Baths', 'Structure Type', 'Beds', 'Square Footage', 'HOA Fee', 'Stories', 'Attached Garage', 'New Construction']))"
      ],
      "metadata": {
        "colab": {
          "base_uri": "https://localhost:8080/"
        },
        "id": "M8xqkhs0Wtqa",
        "outputId": "454e3750-de93-4b4d-f886-326f76791b83"
      },
      "execution_count": 7,
      "outputs": [
        {
          "output_type": "execute_result",
          "data": {
            "text/plain": [
              "array(['average'], dtype=object)"
            ]
          },
          "metadata": {},
          "execution_count": 7
        }
      ]
    },
    {
      "cell_type": "code",
      "source": [
        "joblib.dump(class_RFModel, 'model.pkl')"
      ],
      "metadata": {
        "id": "IcmVoUC3fV67",
        "colab": {
          "base_uri": "https://localhost:8080/"
        },
        "outputId": "4179802d-98bc-422c-989b-44ac168ee246"
      },
      "execution_count": 8,
      "outputs": [
        {
          "output_type": "execute_result",
          "data": {
            "text/plain": [
              "['model.pkl']"
            ]
          },
          "metadata": {},
          "execution_count": 8
        }
      ]
    }
  ]
}